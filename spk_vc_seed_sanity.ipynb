{
 "cells": [
  {
   "cell_type": "code",
   "execution_count": 1,
   "id": "equipped-values",
   "metadata": {
    "tags": []
   },
   "outputs": [],
   "source": [
    "# scientific libraries\n",
    "import numpy as np\n",
    "import matplotlib.pyplot as plt\n",
    "from mpl_toolkits.axes_grid1.anchored_artists import AnchoredSizeBar\n",
    "from skimage import io\n",
    "from scipy.stats import circvar, circmean, circstd\n",
    "\n",
    "# general libraries\n",
    "import os  \n",
    "import json\n",
    "import time\n",
    "import h5py as h5py\n",
    "import copy\n",
    "from functools import partial\n",
    "\n",
    "# jupyter imports\n",
    "import ipywidgets as widgets\n",
    "from IPython.display import clear_output\n",
    "\n",
    "# local libraries\n",
    "from analysis import *\n",
    "from general_utils import *\n",
    "from hdf_utils import unpack_hdf, Workspace, pack_hdf\n",
    "from scalebars import *\n",
    "import deconv\n",
    "\n",
    "import sac_mode_configs as configs\n",
    "import experiments as exps\n",
    "import analysis as ana\n",
    "from interactive import MotionResponse"
   ]
  },
  {
   "cell_type": "code",
   "execution_count": 2,
   "id": "standing-paintball",
   "metadata": {},
   "outputs": [],
   "source": [
    "%matplotlib widget\n",
    "plt.rcParams.update({\"figure.max_open_warning\": 0})\n",
    "plt.rcParams['svg.fonttype'] = 'none'  # don't save font as paths (assumes font present on machine)"
   ]
  },
  {
   "cell_type": "code",
   "execution_count": 3,
   "id": "stable-distributor",
   "metadata": {},
   "outputs": [],
   "source": [
    "base_path = \"/mnt/Data/NEURONoutput/sac_net/\""
   ]
  },
  {
   "cell_type": "code",
   "execution_count": 19,
   "id": "9621e2f4",
   "metadata": {
    "tags": []
   },
   "outputs": [
    {
     "name": "stdout",
     "output_type": "stream",
     "text": [
      "==keys==\n",
      "rhos: [0.0, 1.0]\n",
      "idxs: [0, 1]\n",
      "exp keys: ['dendrites', 'params', 'sac_net', 'soma', 'syn_locs']\n",
      "n_syn: 341\n"
     ]
    }
   ],
   "source": [
    "data_base_paths = {\n",
    "    \"vc\": os.path.join(base_path, \"vc_runs\"),\n",
    "    \"spk\": os.path.join(base_path, \"model_runs\"),\n",
    "}\n",
    "fig_path = os.path.join(base_path, \"spk_vc_seed_sanity\")\n",
    "fig_subdir = None\n",
    "\n",
    "fig_subdir, analysis_names = (None, {\n",
    "    \"vc\": \"poissarma_etau3_x0p45w_itau6_x0p8w_ar_0p9_-0p1_rho95flat_er1p2_ir0p6_2n_2tr_fixedrng_tree\",\n",
    "    \"spk\": \"poissarma_etau3_x0p45w_itau6_x0p8w_ntau6_x0p3_ar0p9_-0p1_rho95_er1p2_ir0p6_nr1p2_2n_2tr_fixedrng_tree\",\n",
    "})\n",
    "\n",
    "fig_path = fig_path if fig_subdir is None else os.path.join(fig_path, fig_subdir)\n",
    "analysis_hdfs = {\n",
    "    k: h5.File(os.path.join(data_base_paths[k], n + \".h5\"), \"r\")\n",
    "    for k, n in analysis_names.items()\n",
    "}\n",
    "d = {k: Workspace(hdf, read_only=True) for k, hdf in analysis_hdfs.items()}\n",
    "# os.makedirs(fig_path, exist_ok=True)\n",
    "\n",
    "rhos = list(d[\"vc\"].keys())\n",
    "idxs = list(d[\"vc\"][rhos[0]].keys())\n",
    "print(\"==keys==\")\n",
    "print(\"rhos:\", rhos)\n",
    "print(\"idxs:\", idxs)\n",
    "print(\"exp keys:\", list(d[\"vc\"][rhos[0]][idxs[0]].keys()))\n",
    "print(\"n_syn:\", len(d[\"spk\"][rhos[0]][idxs[0]][\"sac_net\"][\"wiring\"][\"gaba_here\"][:]))"
   ]
  },
  {
   "cell_type": "code",
   "execution_count": 5,
   "id": "32d840e7",
   "metadata": {},
   "outputs": [
    {
     "data": {
      "application/vnd.jupyter.widget-view+json": {
       "model_id": "d28892aa16b4483bbcd03ef95e8537df",
       "version_major": 2,
       "version_minor": 0
      },
      "text/plain": [
       "VBox(children=(Button(description='Close Workspace', style=ButtonStyle()), Output()))"
      ]
     },
     "metadata": {},
     "output_type": "display_data"
    }
   ],
   "source": [
    "def close_button():\n",
    "    button = widgets.Button(description=\"Close Workspace\")\n",
    "    out = widgets.Output()\n",
    "\n",
    "    def on_clicked(_):\n",
    "        with out:\n",
    "            clear_output()\n",
    "            for wrk in d.values():\n",
    "                wrk.close()\n",
    "            print(\"File closed!\")\n",
    "        \n",
    "    button.on_click(on_clicked)\n",
    "    return widgets.VBox([button, out])\n",
    "\n",
    "close_button()"
   ]
  },
  {
   "cell_type": "code",
   "execution_count": 6,
   "id": "cc1f71fc-6855-4d35-85d0-1c37c0e9bc8e",
   "metadata": {
    "tags": []
   },
   "outputs": [],
   "source": [
    "dir_labels = d[\"vc\"][0.0][0][\"params\"][\"dir_labels\"][:]\n",
    "null_idx = np.argwhere(dir_labels == 180)[0][0]\n",
    "pref_idx = np.argwhere(dir_labels == 0)[0][0]\n",
    "pos_ortho_idx = np.argwhere(dir_labels == 90)[0][0]\n",
    "neg_ortho_idx = np.argwhere(dir_labels == 270)[0][0]"
   ]
  },
  {
   "cell_type": "code",
   "execution_count": 7,
   "id": "d31bc178-4fc2-4c02-9eaf-f1932b58f423",
   "metadata": {
    "tags": []
   },
   "outputs": [
    {
     "name": "stdout",
     "output_type": "stream",
     "text": [
      "All logged rng states match between vc and spk experiments.\n"
     ]
    }
   ],
   "source": [
    "matching_states = True\n",
    "for r in rhos:\n",
    "    for i in idxs:\n",
    "        if d[\"vc\"][r][i][\"params\"][\"rng_state\"] != d[\"vc\"][r][i][\"params\"][\"rng_state\"]:\n",
    "            print(\"Seed mismatch at rho %s net %i\" % (str(r), i))\n",
    "            matching_states = False\n",
    "\n",
    "if matching_states:\n",
    "    print(\"All logged rng states match between vc and spk experiments.\")"
   ]
  },
  {
   "cell_type": "code",
   "execution_count": 8,
   "id": "7cd921c8-d714-4d69-86ea-ad3db1808f0b",
   "metadata": {},
   "outputs": [],
   "source": [
    "vc_key, g_key = \"ACH\", \"E\"\n",
    "# vc_key, g_key = \"GABA\", \"I\"\n",
    "vm_pts = d[\"spk\"][0.0][0][\"dendrites\"][\"g\"][\"E\"].shape[-1]\n",
    "for r in rhos:\n",
    "    for i in idxs:\n",
    "        vc_e = d[\"vc\"][r][i][\"dendrites\"][vc_key][\"g\"][g_key][:, :, :, :vm_pts]\n",
    "        vm_e = d[\"spk\"][r][i][\"dendrites\"][\"g\"][g_key]\n",
    "        diff = (vc_e - vm_e).sum()\n",
    "        if diff != 0.0:\n",
    "            print(\"ACH conductance off by %s at rho %s net %i\" % (str(diff), str(r), i))"
   ]
  },
  {
   "cell_type": "code",
   "execution_count": 9,
   "id": "fb21e051",
   "metadata": {
    "tags": []
   },
   "outputs": [
    {
     "data": {
      "application/vnd.jupyter.widget-view+json": {
       "model_id": "7190d5a62fb5484e864e6de011045ea4",
       "version_major": 2,
       "version_minor": 0
      },
      "text/plain": [
       "VBox(children=(Button(description='Close Workspace', style=ButtonStyle()), Output()))"
      ]
     },
     "metadata": {},
     "output_type": "display_data"
    }
   ],
   "source": [
    "close_button()"
   ]
  },
  {
   "cell_type": "code",
   "execution_count": null,
   "id": "7d4cfb92-df60-4e45-aa97-f3aa9067ae0b",
   "metadata": {},
   "outputs": [],
   "source": []
  }
 ],
 "metadata": {
  "hide_input": false,
  "kernelspec": {
   "display_name": "Python 3 (ipykernel)",
   "language": "python",
   "name": "python3"
  },
  "language_info": {
   "codemirror_mode": {
    "name": "ipython",
    "version": 3
   },
   "file_extension": ".py",
   "mimetype": "text/x-python",
   "name": "python",
   "nbconvert_exporter": "python",
   "pygments_lexer": "ipython3",
   "version": "3.10.13"
  },
  "toc": {
   "base_numbering": 1,
   "nav_menu": {},
   "number_sections": true,
   "sideBar": true,
   "skip_h1_title": false,
   "title_cell": "Table of Contents",
   "title_sidebar": "Contents",
   "toc_cell": false,
   "toc_position": {},
   "toc_section_display": true,
   "toc_window_display": false
  },
  "toc-showcode": true
 },
 "nbformat": 4,
 "nbformat_minor": 5
}
