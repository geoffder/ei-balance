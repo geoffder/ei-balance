{
 "cells": [
  {
   "cell_type": "code",
   "execution_count": null,
   "id": "equipped-values",
   "metadata": {},
   "outputs": [],
   "source": [
    "# scientific libraries\n",
    "import numpy as np\n",
    "import matplotlib.pyplot as plt\n",
    "from mpl_toolkits.axes_grid1.anchored_artists import AnchoredSizeBar\n",
    "from skimage import io\n",
    "from astropy.stats.circstats import circcorrcoef\n",
    "\n",
    "# general libraries\n",
    "import os  \n",
    "import json\n",
    "import time\n",
    "import h5py as h5py\n",
    "import copy\n",
    "\n",
    "# jupyter imports\n",
    "import ipywidgets as widgets\n",
    "from IPython.display import clear_output\n",
    "\n",
    "# local libraries\n",
    "from analysis import *\n",
    "from general_utils import *\n",
    "from modelUtils import wrap_180, rot\n",
    "from hdf_utils import unpack_hdf, Workspace\n",
    "from scalebars import *\n",
    "import deconv\n",
    "\n",
    "from SacNetwork import SacNetwork\n",
    "import balance_configs as configs\n",
    "import experiments as exps\n",
    "import analysis as ana\n",
    "from interactive import MotionResponse"
   ]
  },
  {
   "cell_type": "code",
   "execution_count": null,
   "id": "standing-paintball",
   "metadata": {},
   "outputs": [],
   "source": [
    "# %matplotlib notebook\n",
    "%matplotlib widget\n",
    "# %matplotlib qt\n",
    "plt.rcParams.update({\"figure.max_open_warning\": 0})"
   ]
  },
  {
   "cell_type": "code",
   "execution_count": null,
   "id": "stable-distributor",
   "metadata": {},
   "outputs": [],
   "source": [
    "base_path = \"/mnt/Data/NEURONoutput/sac_net/\""
   ]
  },
  {
   "cell_type": "markdown",
   "id": "9810d85b-6e9c-44c3-afac-8d55e53052e3",
   "metadata": {},
   "source": [
    "# TODO:\n",
    "**timing offsets between EI for each direction:**\n",
    "- collect input locations for EI synapses at each rho level\n",
    "- calculate the time delta between E and I\n",
    "- how does this change over direction?"
   ]
  },
  {
   "cell_type": "code",
   "execution_count": null,
   "id": "114489d2-766e-4ff8-8319-f9ecb391eeb2",
   "metadata": {
    "tags": []
   },
   "outputs": [],
   "source": [
    "model_path = os.path.join(base_path, \"sanity\")\n",
    "fig_path = os.path.join(model_path, \"figs\") \n",
    "os.makedirs(fig_path, exist_ok=True)\n",
    "\n",
    "rng = np.random.default_rng()\n",
    "dir_labels = np.array([225, 270, 315, 0, 45, 90, 135, 180])\n",
    "circle = np.radians([0, 45, 90, 135, 180, 225, 270, 315, 0])\n",
    "dir_rads = np.radians(dir_labels)\n",
    "conf = configs.sac_mode_config()\n",
    "probs = {\n",
    "    t: {\n",
    "        \"null\": conf[\"synprops\"][t][\"null_prob\"],\n",
    "        \"pref\": conf[\"synprops\"][t][\"pref_prob\"],\n",
    "    }\n",
    "    for t in [\"E\", \"I\"]\n",
    "}\n",
    "conf[\"sac_theta_mode\"] = \"experimental\"\n",
    "\n",
    "hist_conf = copy.deepcopy(conf)\n",
    "hist_conf[\"seed\"] = 4\n",
    "hist_conf[\"sac_theta_mode\"] = \"experimental\"\n",
    "hist_nets = 25\n",
    "angle_hist_fig, angle_hist_ax = ana.sac_angle_distribution(\n",
    "    dist_conf, rho=1, n_nets=hist_nets, bins=[12], incl_yticks=True, figsize=(5, 4))\n",
    "name = os.path.join(fig_path, \"angle_hist_seed%i_%inets.png\" % (hist_conf[\"seed\"], hist_nets))\n",
    "angle_hist_fig.savefig(name, bbox_inches=\"tight\")"
   ]
  },
  {
   "cell_type": "code",
   "execution_count": null,
   "id": "6e89d55c-bdab-4c1c-9ca0-fa2fb8c52478",
   "metadata": {
    "tags": []
   },
   "outputs": [],
   "source": [
    "# TODO: get this working when synapses without I are included, such that\n",
    "# this can be combined easily with a probability matrix including all of the synapses\n",
    "# as well (so the E without I can count as \"unopposed\" when their probability is high enough,\n",
    "# or be used as part of a linear metric that adds up the probabilities, modulated by the timing)\n",
    "def calc_sweep_times(\n",
    "    locs, # shape (N, 2 [EI], 2 [XY])\n",
    "    origin,\n",
    "    vel=1.0,\n",
    "    rel_start=np.array([-150, 0]),\n",
    "    rel_end=np.array([150, 0]),\n",
    "):\n",
    "    times = {}  # dir -> syn -> trans\n",
    "    times = np.zeros((len(dir_rads), locs.shape[0], 2)) # shape (8 [dir], N, 2 [EI])\n",
    "    for i, r in enumerate(dir_rads):\n",
    "        line_a = rot(r, rel_start) + origin\n",
    "        line_b = rot(r, rel_end) + origin\n",
    "        for syn in range(locs.shape[0]):\n",
    "            for j in range(2):\n",
    "                dist = project_onto_line(line_a, line_b, locs[syn][j])[0]\n",
    "                times[i, syn, j] = dist / vel\n",
    "                \n",
    "    return times"
   ]
  },
  {
   "cell_type": "code",
   "execution_count": null,
   "id": "e7a12020-3cae-46c9-840a-d36a64b62ef5",
   "metadata": {
    "tags": []
   },
   "outputs": [],
   "source": [
    "n_syns = 1000\n",
    "rho_steps = 50\n",
    "rhos = np.arange(rho_steps + 1) / rho_steps \n",
    "\n",
    "thetas, deltas, abs_deltas, dir_probs, times, has_gaba = [{} for _ in range(6)]\n",
    "corrs, mean_abs_deltas = [], []\n",
    "\n",
    "for rho in rhos:\n",
    "    sac_net = SacNetwork(\n",
    "        np.zeros((n_syns, 2)),\n",
    "        probs,\n",
    "        rho,\n",
    "        conf[\"sac_uniform_dist\"],\n",
    "        conf[\"sac_shared_var\"],\n",
    "        conf[\"sac_theta_vars\"],\n",
    "        conf[\"sac_gaba_coverage\"],\n",
    "        dir_labels,\n",
    "        rng,\n",
    "        offset=conf[\"sac_offset\"],\n",
    "        theta_mode=conf[\"sac_theta_mode\"],\n",
    "        cell_pref=0,\n",
    "        n_plexus_ach=0,\n",
    "    )\n",
    "    # n = np.sum(sac_net.gaba_here)\n",
    "    has_gaba[rho] = sac_net.gaba_here\n",
    "    n = len(sac_net.gaba_here)\n",
    "    ts = np.zeros((n, 2))\n",
    "    ts[:, 0] = sac_net.thetas[\"E\"]\n",
    "    ts[:, 1] = sac_net.thetas[\"I\"]\n",
    "    thetas[rho] = ts\n",
    "    paired_ts = ts[sac_net.gaba_here, :]\n",
    "    corrs.append(circcorrcoef(np.radians(paired_ts[:, 0]), np.radians(paired_ts[:, 1])))\n",
    "    deltas[rho] = np.vectorize(wrap_180)(paired_ts[:, 0] - paired_ts[:, 1])\n",
    "    abs_deltas[rho] = np.abs(deltas[rho])\n",
    "    mean_abs_deltas.append(np.mean(abs_deltas[rho]))\n",
    "    locs = np.zeros((n, 2, 2))\n",
    "    locs[:, 0, :] = sac_net.bp_locs[\"E\"]\n",
    "    locs[:, 1, :] = sac_net.bp_locs[\"I\"]\n",
    "    times[rho] = calc_sweep_times(locs, sac_net.origin)\n",
    "    dir_probs[rho] = np.zeros((n, 8, 2))\n",
    "    dir_probs[rho][:, :, 0] = sac_net.probs[\"E\"]\n",
    "    dir_probs[rho][:, :, 1] = sac_net.probs[\"I\"]\n",
    "\n",
    "corrs = np.array(corrs)"
   ]
  },
  {
   "cell_type": "code",
   "execution_count": null,
   "id": "69781be1-14c0-4e65-86e6-d9d43f65a603",
   "metadata": {
    "tags": []
   },
   "outputs": [],
   "source": [
    "real_corr_fig, real_corr_ax = plt.subplots(2, 1, sharex=True, figsize=(4, 5))\n",
    "real_corr_ax[0].plot(rhos, corrs)\n",
    "real_corr_ax[0].set_ylabel(\"angle correlation\", fontsize=13)\n",
    "real_corr_ax[1].plot(rhos, mean_abs_deltas)\n",
    "real_corr_ax[1].set_ylabel(\"mean delta (°)\", fontsize=13)\n",
    "real_corr_ax[-1].set_xlabel(\"rho\", fontsize=13)\n",
    "real_corr_fig.set_layout_engine(\"compressed\")\n",
    "clean_axes(real_corr_ax)\n",
    "real_corr_fig.savefig(os.path.join(fig_path, \"real_corr.png\"), bbox_inches=\"tight\")"
   ]
  },
  {
   "cell_type": "code",
   "execution_count": null,
   "id": "0d96591d-3572-4f85-8107-fbf4f4e461c6",
   "metadata": {},
   "outputs": [],
   "source": [
    "e_early_thresh = 5.\n",
    "\n",
    "time_diff = {r: ts[:, has_gaba[r], 1] - ts[:, has_gaba[r], 0] for r, ts in times.items()}\n",
    "abs_time_diff = {r: np.abs(diffs) for r, diffs in time_diff.items()}\n",
    "abs_time_diff_sum = {r: np.sum(diffs, axis=1) for r, diffs in abs_time_diff.items()}\n",
    "e_early_diff_sum = {\n",
    "    r: np.array([np.sum(d[d > 0.]) for d in diff]) \n",
    "    for r, diff in time_diff.items()\n",
    "}\n",
    "e_early = {r: (diffs > e_early_thresh) for r, diffs in time_diff.items()}\n",
    "e_early_sum = {r: np.sum(early, axis=1) for r, early in e_early.items()}\n",
    "total_prob = {r: np.sum(pr, axis=0) for r, pr in dir_probs.items()}"
   ]
  },
  {
   "cell_type": "code",
   "execution_count": null,
   "id": "88e37db3-2426-406d-b682-036655fb2243",
   "metadata": {
    "tags": []
   },
   "outputs": [],
   "source": [
    "polar_rhos = [0.0, 1.0]\n",
    "dir_sort = np.array(dir_labels).argsort()\n",
    "circ_total_prob = {r: pr[dir_sort, :] for r, pr in total_prob.items()}\n",
    "circ_total_prob = {\n",
    "    r: np.concatenate([pr, np.expand_dims(pr[0], axis=0)], axis=0) \n",
    "    for r, pr in circ_total_prob.items()\n",
    "}\n",
    "\n",
    "prob_polar_fig = plt.figure(figsize=(6, 4))\n",
    "prob_polar_ax = []\n",
    "for i, r in enumerate(polar_rhos):\n",
    "    ax = prob_polar_fig.add_subplot(1, len(polar_rhos), i + 1, projection=\"polar\")\n",
    "    prob_polar_ax.append(ax)\n",
    "    ax.plot(circle, circ_total_prob[r][:, 0], linewidth=2, label=\"E\" if not i else None)\n",
    "    ax.plot(circle, circ_total_prob[r][:, 1], linewidth=2, label=\"I\" if not i else None)\n",
    "    radius = np.max(circ_total_prob[r])\n",
    "    dsi, _ = calc_tuning(total_prob[r][:, 1], dir_labels)\n",
    "    ax.set_title(\"rho = \" + str(r) + \"\\nDSi = %.2f\" % dsi)\n",
    "    ax.set_rmax(radius)\n",
    "    ax.set_rticks([radius])\n",
    "    ax.set_rlabel_position(45)\n",
    "    ax.set_thetagrids([0, 90, 180, 270])\n",
    "    ax.set_xticklabels([])\n",
    "    ax.tick_params(labelsize=12)\n",
    "\n",
    "prob_polar_fig.legend(fontsize=13, frameon=False)\n",
    "\n",
    "print(\"avg gaba coverage = %.2f\" % (np.mean([np.sum(g) for g in has_gaba.values()]) / n_syns))\n",
    "prob_polar_fig.savefig(os.path.join(fig_path, \"prob_polar.png\"), bbox_inches=\"tight\")"
   ]
  },
  {
   "cell_type": "code",
   "execution_count": null,
   "id": "d018367b-d2d7-4d4d-8327-6232b76ed27c",
   "metadata": {
    "tags": []
   },
   "outputs": [],
   "source": [
    "dir_labels"
   ]
  },
  {
   "cell_type": "code",
   "execution_count": null,
   "id": "d310fd16-330a-43b7-af58-7942d5ac30e5",
   "metadata": {},
   "outputs": [],
   "source": []
  }
 ],
 "metadata": {
  "hide_input": false,
  "kernelspec": {
   "display_name": "Python 3 (ipykernel)",
   "language": "python",
   "name": "python3"
  },
  "language_info": {
   "codemirror_mode": {
    "name": "ipython",
    "version": 3
   },
   "file_extension": ".py",
   "mimetype": "text/x-python",
   "name": "python",
   "nbconvert_exporter": "python",
   "pygments_lexer": "ipython3",
   "version": "3.10.9"
  },
  "toc": {
   "base_numbering": 1,
   "nav_menu": {},
   "number_sections": true,
   "sideBar": true,
   "skip_h1_title": false,
   "title_cell": "Table of Contents",
   "title_sidebar": "Contents",
   "toc_cell": false,
   "toc_position": {},
   "toc_section_display": true,
   "toc_window_display": false
  },
  "toc-showcode": true
 },
 "nbformat": 4,
 "nbformat_minor": 5
}
