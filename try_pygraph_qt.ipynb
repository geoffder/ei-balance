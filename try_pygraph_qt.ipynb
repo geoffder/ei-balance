{
 "cells": [
  {
   "cell_type": "markdown",
   "id": "43a630c9-ea19-43d0-8e20-7b2ddcec5992",
   "metadata": {},
   "source": [
    "Some example links:\n",
    "\n",
    "https://mybinder.org/v2/gh/pyqtgraph/pyqtgraph/HEAD?urlpath=%2Flab%2Ftree%2Fpyqtgraph%2Fexamples%2Fnotebooks\n",
    "\n",
    "https://hub.gke2.mybinder.org/user/pyqtgraph-pyqtgraph-mqrwp9hl/lab/tree/pyqtgraph/examples/notebooks/ROIExamples.ipynb\n"
   ]
  },
  {
   "cell_type": "code",
   "execution_count": 3,
   "id": "1d31549b",
   "metadata": {},
   "outputs": [
    {
     "data": {
      "application/vnd.jupyter.widget-view+json": {
       "model_id": "8191ea4785e94a52a5e6e1a32cc79df9",
       "version_major": 2,
       "version_minor": 0
      },
      "text/plain": [
       "RFBOutputContext()"
      ]
     },
     "metadata": {},
     "output_type": "display_data"
    },
    {
     "name": "stdout",
     "output_type": "stream",
     "text": [
      "Generating data, this takes a few seconds...\n"
     ]
    },
    {
     "data": {
      "text/html": [
       "<div class='initial-snapshot-b34f1f48b19e4997a2348f6e2aef66f1' style='position:relative;'><img src='data:image/png;base64,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' style='width:400.0px;height:400.0px;' /><div style='position: absolute; top:0; left:0; padding:1px 3px; background: #777; color:#fff; font-size: 90%; font-family:sans-serif; '>initial snapshot</div></div>"
      ],
      "text/plain": [
       "<jupyter_rfb._utils.Snapshot object>"
      ]
     },
     "metadata": {},
     "output_type": "display_data"
    },
    {
     "data": {
      "application/vnd.jupyter.widget-view+json": {
       "model_id": "b34f1f48b19e4997a2348f6e2aef66f1",
       "version_major": 2,
       "version_minor": 0
      },
      "text/plain": [
       "GraphicsLayoutWidget(css_height='400px', css_width='400px')"
      ]
     },
     "metadata": {},
     "output_type": "display_data"
    },
    {
     "data": {
      "application/vnd.jupyter.widget-view+json": {
       "model_id": "2933a0beb4924b6d9ab9e89dcd7929b8",
       "version_major": 2,
       "version_minor": 0
      },
      "text/plain": [
       "Output(layout=Layout(border='1px solid black'))"
      ]
     },
     "metadata": {},
     "output_type": "display_data"
    }
   ],
   "source": [
    "from pyqtgraph.jupyter import GraphicsLayoutWidget\n",
    "import ipywidgets\n",
    "from IPython.display import display\n",
    "\n",
    "from pyqtgraph.Qt import QtGui\n",
    "import pyqtgraph as pg\n",
    "import numpy as np\n",
    "from collections import namedtuple\n",
    "\n",
    "pg.mkQApp()\n",
    "view = GraphicsLayoutWidget(css_width=\"400px\", css_height=\"400px\")\n",
    "# view = pg.GraphicsLayoutWidget()\n",
    "\n",
    "## create four areas to add plots\n",
    "# w1 = view.addPlot()\n",
    "# w2 = view.addViewBox()\n",
    "# w2.setAspectLocked(True)\n",
    "# view.nextRow()\n",
    "# w3 = view.addPlot()\n",
    "w4 = view.addPlot()\n",
    "print(\"Generating data, this takes a few seconds...\")\n",
    "\n",
    "## Make all plots clickable\n",
    "clickedPen = pg.mkPen('b', width=2)\n",
    "lastClicked = []\n",
    "def clicked(plot, points):\n",
    "    global lastClicked\n",
    "    for p in lastClicked:\n",
    "        p.resetPen()\n",
    "    # with out:\n",
    "        # print(\"clicked points\", points)\n",
    "    for p in points:\n",
    "        p.setPen(clickedPen)\n",
    "    lastClicked = points\n",
    "    view.request_draw()\n",
    "\n",
    "\n",
    "## There are a few different ways we can draw scatter plots; each is optimized for different types of data:\n",
    "\n",
    "## 1) All spots identical and transform-invariant (top-left plot).\n",
    "## In this case we can get a huge performance boost by pre-rendering the spot\n",
    "## image and just drawing that image repeatedly.\n",
    "\n",
    "# n = 300\n",
    "# s1 = pg.ScatterPlotItem(size=10, pen=pg.mkPen(None), brush=pg.mkBrush(255, 255, 255, 120))\n",
    "# pos = np.random.normal(size=(2,n), scale=1e-5)\n",
    "# spots = [{'pos': pos[:,i], 'data': 1} for i in range(n)] + [{'pos': [0,0], 'data': 1}]\n",
    "# s1.addPoints(spots)\n",
    "# w1.addItem(s1)\n",
    "# s1.sigClicked.connect(clicked)\n",
    "\n",
    "\n",
    "## 2) Spots are transform-invariant, but not identical (top-right plot).\n",
    "## In this case, drawing is almsot as fast as 1), but there is more startup\n",
    "## overhead and memory usage since each spot generates its own pre-rendered\n",
    "## image.\n",
    "\n",
    "# TextSymbol = namedtuple(\"TextSymbol\", \"label symbol scale\")\n",
    "\n",
    "# def createLabel(label, angle):\n",
    "#     symbol = QtGui.QPainterPath()\n",
    "#     #symbol.addText(0, 0, QFont(\"San Serif\", 10), label)\n",
    "#     f = QtGui.QFont()\n",
    "#     f.setPointSize(10)\n",
    "#     symbol.addText(0, 0, f, label)\n",
    "#     br = symbol.boundingRect()\n",
    "#     scale = min(1. / br.width(), 1. / br.height())\n",
    "#     tr = QtGui.QTransform()\n",
    "#     tr.scale(scale, scale)\n",
    "#     tr.rotate(angle)\n",
    "#     tr.translate(-br.x() - br.width()/2., -br.y() - br.height()/2.)\n",
    "#     return TextSymbol(label, tr.map(symbol), 0.1 / scale)\n",
    "\n",
    "# random_str = lambda : (''.join([chr(np.random.randint(ord('A'),ord('z'))) for i in range(np.random.randint(1,5))]), np.random.randint(0, 360))\n",
    "\n",
    "# s2 = pg.ScatterPlotItem(size=10, pen=pg.mkPen('w'), pxMode=True)\n",
    "# pos = np.random.normal(size=(2,n), scale=1e-5)\n",
    "# spots = [{'pos': pos[:,i], 'data': 1, 'brush':pg.intColor(i, n), 'symbol': i%10, 'size': 5+i/10.} for i in range(n)]\n",
    "# s2.addPoints(spots)\n",
    "# spots = [{'pos': pos[:,i], 'data': 1, 'brush':pg.intColor(i, n), 'symbol': label[1], 'size': label[2]*(5+i/10.)} for (i, label) in [(i, createLabel(*random_str())) for i in range(n)]]\n",
    "# s2.addPoints(spots)\n",
    "# w2.addItem(s2)\n",
    "# s2.sigClicked.connect(clicked)\n",
    "\n",
    "\n",
    "## 3) Spots are not transform-invariant, not identical (bottom-left).\n",
    "## This is the slowest case, since all spots must be completely re-drawn\n",
    "## every time because their apparent transformation may have changed.\n",
    "\n",
    "# s3 = pg.ScatterPlotItem(\n",
    "#     pxMode=False,  # Set pxMode=False to allow spots to transform with the view\n",
    "#     hoverable=True,\n",
    "#     hoverPen=pg.mkPen('g'),\n",
    "#     hoverSize=1e-6\n",
    "# )\n",
    "# spots3 = []\n",
    "# for i in range(10):\n",
    "#     for j in range(10):\n",
    "#         spots3.append({'pos': (1e-6*i, 1e-6*j), 'size': 1e-6, 'pen': {'color': 'w', 'width': 2}, 'brush':pg.intColor(i*10+j, 100)})\n",
    "# s3.addPoints(spots3)\n",
    "# w3.addItem(s3)\n",
    "# s3.sigClicked.connect(clicked)\n",
    "\n",
    "## Test performance of large scatterplots\n",
    "\n",
    "s4 = pg.ScatterPlotItem(\n",
    "    size=10,\n",
    "    pen=pg.mkPen(None),\n",
    "    brush=pg.mkBrush(255, 255, 255, 20),\n",
    "    hoverable=False,\n",
    "    hoverSymbol='s',\n",
    "    hoverSize=15,\n",
    "    hoverPen=pg.mkPen('r', width=2),\n",
    "    hoverBrush=pg.mkBrush('g'),\n",
    ")\n",
    "n = 500\n",
    "pos = np.random.normal(size=(2, n), scale=1e-9)\n",
    "s4.addPoints(\n",
    "    x=pos[0],\n",
    "    y=pos[1],\n",
    "    # size=(np.random.random(n) * 20.).astype(int),\n",
    "    # brush=[pg.mkBrush(x) for x in np.random.randint(0, 256, (n, 3))],\n",
    "    data=np.arange(n)\n",
    ")\n",
    "w4.addItem(s4)\n",
    "s4.sigClicked.connect(clicked)\n",
    "\n",
    "shade = 0.\n",
    "step = 0.025\n",
    "def wheelEvent(event):\n",
    "    global shade\n",
    "    event.accept()\n",
    "    if event.delta() > 0:\n",
    "        shade += step\n",
    "        shade = shade if shade < 1.0 else 1.0\n",
    "    elif event.delta() < 0:\n",
    "        shade -= step\n",
    "        shade = shade if shade > 0.0 else 0.0\n",
    "    pen = pg.mkPen(color=shade, width=2)\n",
    "    for p in s4.points():\n",
    "        p.setPen(pen)\n",
    "    view.request_draw()\n",
    "        \n",
    "s4.wheelEvent = wheelEvent\n",
    "\n",
    "out = ipywidgets.Output(layout={'border': '1px solid black'})\n",
    "display(view)\n",
    "display(out)"
   ]
  },
  {
   "cell_type": "code",
   "execution_count": 2,
   "id": "046b6633",
   "metadata": {},
   "outputs": [],
   "source": [
    "# %gui qt\n",
    "# view.show()"
   ]
  },
  {
   "cell_type": "code",
   "execution_count": null,
   "id": "90e6eb3b-bc21-469a-a538-3903363ba0d3",
   "metadata": {},
   "outputs": [],
   "source": []
  }
 ],
 "metadata": {
  "hide_input": false,
  "kernelspec": {
   "display_name": "Python 3 (ipykernel)",
   "language": "python",
   "name": "python3"
  },
  "language_info": {
   "codemirror_mode": {
    "name": "ipython",
    "version": 3
   },
   "file_extension": ".py",
   "mimetype": "text/x-python",
   "name": "python",
   "nbconvert_exporter": "python",
   "pygments_lexer": "ipython3",
   "version": "3.10.9"
  }
 },
 "nbformat": 4,
 "nbformat_minor": 5
}
