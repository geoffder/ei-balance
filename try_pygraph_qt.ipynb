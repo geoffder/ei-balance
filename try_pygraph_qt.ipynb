{
 "cells": [
  {
   "cell_type": "markdown",
   "id": "43a630c9-ea19-43d0-8e20-7b2ddcec5992",
   "metadata": {},
   "source": [
    "Some example links:\n",
    "\n",
    "https://mybinder.org/v2/gh/pyqtgraph/pyqtgraph/HEAD?urlpath=%2Flab%2Ftree%2Fpyqtgraph%2Fexamples%2Fnotebooks\n",
    "\n",
    "https://hub.gke2.mybinder.org/user/pyqtgraph-pyqtgraph-mqrwp9hl/lab/tree/pyqtgraph/examples/notebooks/ROIExamples.ipynb\n"
   ]
  },
  {
   "cell_type": "code",
   "execution_count": 31,
   "id": "1d31549b",
   "metadata": {},
   "outputs": [
    {
     "data": {
      "application/vnd.jupyter.widget-view+json": {
       "model_id": "0c87a3cabae64f52802d1a53b7143e6d",
       "version_major": 2,
       "version_minor": 0
      },
      "text/plain": [
       "RFBOutputContext()"
      ]
     },
     "metadata": {},
     "output_type": "display_data"
    },
    {
     "name": "stdout",
     "output_type": "stream",
     "text": [
      "Generating data, this takes a few seconds...\n"
     ]
    },
    {
     "data": {
      "text/html": [
       "<div class='initial-snapshot-d40ca68272d0404cbb6fd6040b9ce930' style='position:relative;'><img src='data:image/png;base64,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' style='width:400.0px;height:400.0px;' /><div style='position: absolute; top:0; left:0; padding:1px 3px; background: #777; color:#fff; font-size: 90%; font-family:sans-serif; '>initial snapshot</div></div>"
      ],
      "text/plain": [
       "<jupyter_rfb._utils.Snapshot object>"
      ]
     },
     "metadata": {},
     "output_type": "display_data"
    },
    {
     "data": {
      "application/vnd.jupyter.widget-view+json": {
       "model_id": "d40ca68272d0404cbb6fd6040b9ce930",
       "version_major": 2,
       "version_minor": 0
      },
      "text/plain": [
       "GraphicsLayoutWidget(css_height='400px', css_width='400px')"
      ]
     },
     "metadata": {},
     "output_type": "display_data"
    },
    {
     "data": {
      "application/vnd.jupyter.widget-view+json": {
       "model_id": "78b7ca9db9744c07b85bde6e0011d911",
       "version_major": 2,
       "version_minor": 0
      },
      "text/plain": [
       "Output(layout=Layout(border='1px solid black'))"
      ]
     },
     "metadata": {},
     "output_type": "display_data"
    }
   ],
   "source": [
    "from pyqtgraph.jupyter import GraphicsLayoutWidget\n",
    "import ipywidgets\n",
    "from IPython.display import display\n",
    "\n",
    "from pyqtgraph.Qt import QtGui\n",
    "import pyqtgraph as pg\n",
    "import numpy as np\n",
    "from collections import namedtuple\n",
    "\n",
    "pg.mkQApp()\n",
    "view = GraphicsLayoutWidget(css_width=\"400px\", css_height=\"400px\")\n",
    "\n",
    "## create four areas to add plots\n",
    "# w1 = view.addPlot()\n",
    "# w2 = view.addViewBox()\n",
    "# w2.setAspectLocked(True)\n",
    "# view.nextRow()\n",
    "# w3 = view.addPlot()\n",
    "w4 = view.addPlot()\n",
    "print(\"Generating data, this takes a few seconds...\")\n",
    "\n",
    "## Make all plots clickable\n",
    "clickedPen = pg.mkPen('b', width=2)\n",
    "lastClicked = []\n",
    "def clicked(plot, points):\n",
    "    global lastClicked\n",
    "    for p in lastClicked:\n",
    "        p.resetPen()\n",
    "    # with out:\n",
    "        # print(\"clicked points\", points)\n",
    "    for p in points:\n",
    "        p.setPen(clickedPen)\n",
    "    lastClicked = points\n",
    "    view.request_draw()\n",
    "\n",
    "\n",
    "## There are a few different ways we can draw scatter plots; each is optimized for different types of data:\n",
    "\n",
    "## 1) All spots identical and transform-invariant (top-left plot).\n",
    "## In this case we can get a huge performance boost by pre-rendering the spot\n",
    "## image and just drawing that image repeatedly.\n",
    "\n",
    "# n = 300\n",
    "# s1 = pg.ScatterPlotItem(size=10, pen=pg.mkPen(None), brush=pg.mkBrush(255, 255, 255, 120))\n",
    "# pos = np.random.normal(size=(2,n), scale=1e-5)\n",
    "# spots = [{'pos': pos[:,i], 'data': 1} for i in range(n)] + [{'pos': [0,0], 'data': 1}]\n",
    "# s1.addPoints(spots)\n",
    "# w1.addItem(s1)\n",
    "# s1.sigClicked.connect(clicked)\n",
    "\n",
    "\n",
    "## 2) Spots are transform-invariant, but not identical (top-right plot).\n",
    "## In this case, drawing is almsot as fast as 1), but there is more startup\n",
    "## overhead and memory usage since each spot generates its own pre-rendered\n",
    "## image.\n",
    "\n",
    "# TextSymbol = namedtuple(\"TextSymbol\", \"label symbol scale\")\n",
    "\n",
    "# def createLabel(label, angle):\n",
    "#     symbol = QtGui.QPainterPath()\n",
    "#     #symbol.addText(0, 0, QFont(\"San Serif\", 10), label)\n",
    "#     f = QtGui.QFont()\n",
    "#     f.setPointSize(10)\n",
    "#     symbol.addText(0, 0, f, label)\n",
    "#     br = symbol.boundingRect()\n",
    "#     scale = min(1. / br.width(), 1. / br.height())\n",
    "#     tr = QtGui.QTransform()\n",
    "#     tr.scale(scale, scale)\n",
    "#     tr.rotate(angle)\n",
    "#     tr.translate(-br.x() - br.width()/2., -br.y() - br.height()/2.)\n",
    "#     return TextSymbol(label, tr.map(symbol), 0.1 / scale)\n",
    "\n",
    "# random_str = lambda : (''.join([chr(np.random.randint(ord('A'),ord('z'))) for i in range(np.random.randint(1,5))]), np.random.randint(0, 360))\n",
    "\n",
    "# s2 = pg.ScatterPlotItem(size=10, pen=pg.mkPen('w'), pxMode=True)\n",
    "# pos = np.random.normal(size=(2,n), scale=1e-5)\n",
    "# spots = [{'pos': pos[:,i], 'data': 1, 'brush':pg.intColor(i, n), 'symbol': i%10, 'size': 5+i/10.} for i in range(n)]\n",
    "# s2.addPoints(spots)\n",
    "# spots = [{'pos': pos[:,i], 'data': 1, 'brush':pg.intColor(i, n), 'symbol': label[1], 'size': label[2]*(5+i/10.)} for (i, label) in [(i, createLabel(*random_str())) for i in range(n)]]\n",
    "# s2.addPoints(spots)\n",
    "# w2.addItem(s2)\n",
    "# s2.sigClicked.connect(clicked)\n",
    "\n",
    "\n",
    "## 3) Spots are not transform-invariant, not identical (bottom-left).\n",
    "## This is the slowest case, since all spots must be completely re-drawn\n",
    "## every time because their apparent transformation may have changed.\n",
    "\n",
    "# s3 = pg.ScatterPlotItem(\n",
    "#     pxMode=False,  # Set pxMode=False to allow spots to transform with the view\n",
    "#     hoverable=True,\n",
    "#     hoverPen=pg.mkPen('g'),\n",
    "#     hoverSize=1e-6\n",
    "# )\n",
    "# spots3 = []\n",
    "# for i in range(10):\n",
    "#     for j in range(10):\n",
    "#         spots3.append({'pos': (1e-6*i, 1e-6*j), 'size': 1e-6, 'pen': {'color': 'w', 'width': 2}, 'brush':pg.intColor(i*10+j, 100)})\n",
    "# s3.addPoints(spots3)\n",
    "# w3.addItem(s3)\n",
    "# s3.sigClicked.connect(clicked)\n",
    "\n",
    "## Test performance of large scatterplots\n",
    "\n",
    "s4 = pg.ScatterPlotItem(\n",
    "    size=10,\n",
    "    pen=pg.mkPen(None),\n",
    "    brush=pg.mkBrush(255, 255, 255, 20),\n",
    "    hoverable=False,\n",
    "    hoverSymbol='s',\n",
    "    hoverSize=15,\n",
    "    hoverPen=pg.mkPen('r', width=2),\n",
    "    hoverBrush=pg.mkBrush('g'),\n",
    ")\n",
    "n = 500\n",
    "pos = np.random.normal(size=(2, n), scale=1e-9)\n",
    "s4.addPoints(\n",
    "    x=pos[0],\n",
    "    y=pos[1],\n",
    "    # size=(np.random.random(n) * 20.).astype(int),\n",
    "    # brush=[pg.mkBrush(x) for x in np.random.randint(0, 256, (n, 3))],\n",
    "    data=np.arange(n)\n",
    ")\n",
    "w4.addItem(s4)\n",
    "s4.sigClicked.connect(clicked)\n",
    "\n",
    "shade = 0.\n",
    "step = 0.025\n",
    "def wheelEvent(event):\n",
    "    global shade\n",
    "    event.accept()\n",
    "    if event.delta() > 0:\n",
    "        shade += step\n",
    "        shade = shade if shade < 1.0 else 1.0\n",
    "    elif event.delta() < 0:\n",
    "        shade -= step\n",
    "        shade = shade if shade > 0.0 else 0.0\n",
    "    pen = pg.mkPen(color=shade, width=2)\n",
    "    for p in s4.points():\n",
    "        p.setPen(pen)\n",
    "    view.request_draw()\n",
    "        \n",
    "s4.wheelEvent = wheelEvent\n",
    "\n",
    "out = ipywidgets.Output(layout={'border': '1px solid black'})\n",
    "display(view)\n",
    "display(out)"
   ]
  },
  {
   "cell_type": "code",
   "execution_count": null,
   "id": "046b6633",
   "metadata": {},
   "outputs": [],
   "source": []
  }
 ],
 "metadata": {
  "hide_input": false,
  "kernelspec": {
   "display_name": "Python 3 (ipykernel)",
   "language": "python",
   "name": "python3"
  },
  "language_info": {
   "codemirror_mode": {
    "name": "ipython",
    "version": 3
   },
   "file_extension": ".py",
   "mimetype": "text/x-python",
   "name": "python",
   "nbconvert_exporter": "python",
   "pygments_lexer": "ipython3",
   "version": "3.10.9"
  }
 },
 "nbformat": 4,
 "nbformat_minor": 5
}
