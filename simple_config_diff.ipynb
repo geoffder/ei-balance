{
 "cells": [
  {
   "cell_type": "code",
   "execution_count": 8,
   "id": "55847779-0b58-409a-a301-79ce85b7b6f2",
   "metadata": {
    "tags": []
   },
   "outputs": [],
   "source": [
    "a = {\n",
    "    \"foo\": 5,\n",
    "    \"bar\": \"baz\",\n",
    "    \"nest\": {\n",
    "        \"a\": 0,\n",
    "        \"b\": \"c\",\n",
    "    },\n",
    "    \"missing\": \"hello\",\n",
    "}\n",
    "\n",
    "b = {\n",
    "    \"foo\": 0,\n",
    "    \"bar\": \"baz\",\n",
    "    \"nest\": {\n",
    "        \"a\": 0,\n",
    "        \"b\": \"d\",\n",
    "    },\n",
    "    \"added\": 0,\n",
    "}"
   ]
  },
  {
   "cell_type": "code",
   "execution_count": 28,
   "id": "0e385243-7413-45a7-811b-8ebc59fc2a5e",
   "metadata": {},
   "outputs": [
    {
     "data": {
      "text/plain": [
       "{'foo': (5 => 0),\n",
       " 'nest': {'b': ('c' => 'd')},\n",
       " 'missing': ('hello' => _),\n",
       " 'added': (_ => 0)}"
      ]
     },
     "execution_count": 28,
     "metadata": {},
     "output_type": "execute_result"
    }
   ],
   "source": [
    "class Change:\n",
    "    def __init__(self, a, b):\n",
    "        self.a = a\n",
    "        self.b = b\n",
    "        \n",
    "    def __repr__(self):\n",
    "        a = repr(self.a) if self.a is not None else \"_\"\n",
    "        b = repr(self.b) if self.b is not None else \"_\"\n",
    "        return \"({0} => {1})\".format(a, b)\n",
    "\n",
    "    def __str__(self):\n",
    "        return self.__repr__(self)\n",
    "\n",
    "def config_diff(a , b):\n",
    "    diffs = {}\n",
    "    visited = []\n",
    "    for k, v in a.items():\n",
    "        if k in b:\n",
    "            visited.append(k)\n",
    "            if type(v) is dict:\n",
    "                ds = config_diff(v, b[k])\n",
    "                if len(ds) > 0:\n",
    "                    diffs[k] = ds\n",
    "            else:\n",
    "                if v != b[k]:\n",
    "                    diffs[k] = Change(v, b[k])\n",
    "        else:\n",
    "            diffs[k] = Change(v, None)\n",
    "    for k in b.keys():\n",
    "        if k not in visited:\n",
    "            diffs[k] = Change(None, b[k])\n",
    "            \n",
    "    return diffs\n",
    "            \n",
    "diffs = config_diff(a, b)\n",
    "diffs"
   ]
  },
  {
   "cell_type": "code",
   "execution_count": 29,
   "id": "9b10b7e1-a384-4ab8-9fe8-fd3eea25ddeb",
   "metadata": {
    "tags": []
   },
   "outputs": [
    {
     "name": "stdout",
     "output_type": "stream",
     "text": [
      "{'foo': (5 => 0), 'nest': {'b': ('c' => 'd')}, 'missing': ('hello' => _), 'added': (_ => 0)}\n"
     ]
    }
   ],
   "source": [
    "print(diffs)"
   ]
  },
  {
   "cell_type": "code",
   "execution_count": null,
   "id": "ad947c23-653b-4c12-82ea-b1d4f93340d0",
   "metadata": {},
   "outputs": [],
   "source": []
  }
 ],
 "metadata": {
  "kernelspec": {
   "display_name": "Python 3 (ipykernel)",
   "language": "python",
   "name": "python3"
  },
  "language_info": {
   "codemirror_mode": {
    "name": "ipython",
    "version": 3
   },
   "file_extension": ".py",
   "mimetype": "text/x-python",
   "name": "python",
   "nbconvert_exporter": "python",
   "pygments_lexer": "ipython3",
   "version": "3.10.9"
  }
 },
 "nbformat": 4,
 "nbformat_minor": 5
}
